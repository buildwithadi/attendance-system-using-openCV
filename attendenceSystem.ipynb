{
 "cells": [
  {
   "cell_type": "code",
   "execution_count": 3,
   "id": "a1215c86-2e5d-4069-9373-4f2f8d12f5ca",
   "metadata": {},
   "outputs": [
    {
     "name": "stdout",
     "output_type": "stream",
     "text": [
      "['musk', 'aarav']\n",
      "['musk']\n"
     ]
    }
   ],
   "source": [
    "import face_recognition\n",
    "import cv2\n",
    "import numpy as np\n",
    "import csv\n",
    "import os\n",
    "from datetime import datetime\n",
    "\n",
    "video = cv2.VideoCapture(0)\n",
    "\n",
    "mark_image = face_recognition.load_image_file(\"students/mark.jpg\")\n",
    "mark_encoding = face_recognition.face_encodings(mark_image)[0]\n",
    "\n",
    "musk_image = face_recognition.load_image_file(\"students/musk.jpg\")\n",
    "musk_encoding = face_recognition.face_encodings(musk_image)[0]\n",
    "\n",
    "aarav_image = face_recognition.load_image_file(\"students/aarav.jpg\")\n",
    "aarav_encoding = face_recognition.face_encodings(aarav_image)[0]\n",
    "\n",
    "known_face_encoding = [mark_encoding, musk_encoding, aarav_encoding]\n",
    "\n",
    "known_faces_name = [\"mark\",\"musk\",\"aarav\"]\n",
    "\n",
    "students = known_faces_name.copy()\n",
    "\n",
    "face_locations = []\n",
    "face_encodings = []\n",
    "face_names = []\n",
    "s = True\n",
    "\n",
    "now = datetime.now()\n",
    "current_date = now.strftime(\"%Y-%m-%d\")\n",
    "\n",
    "f = open(current_date + '.csv','w+',newline = \"\")\n",
    "lnwriter = csv.writer(f)\n",
    "\n",
    "while True:\n",
    "    _,frame = video.read()\n",
    "    small_frame = cv2.resize(frame,(0,0),fx=0.25,fy=0.25)\n",
    "    rgb_small_frame = small_frame[:,:,::-1]\n",
    "    if s:\n",
    "        face_locations = face_recognition.face_locations(rgb_small_frame)\n",
    "        face_encodings = face_recognition.face_encodings(rgb_small_frame, face_locations)\n",
    "        face_names = []\n",
    "        for face_encoding in face_encodings:\n",
    "            matches = face_recognition.compare_faces(known_face_encoding,face_encoding)\n",
    "            name = \"\"\n",
    "            face_distance = face_recognition.face_distance(known_face_encoding,face_encoding)\n",
    "            best_match_index = np.argmin(face_distance)\n",
    "            if matches[best_match_index]:\n",
    "                name = known_faces_name[best_match_index]\n",
    "\n",
    "            face_names.append(name)\n",
    "            if name in known_faces_name:\n",
    "                if name in students:\n",
    "                    students.remove(name)\n",
    "                    print(students)\n",
    "                    current_time = now.strftime(\"%H-%M-%S\")\n",
    "                    lnwriter.writerow([name,current_time])\n",
    "    cv2.imshow(\"attendence system\",frame)\n",
    "    if cv2.waitKey(1) & 0xFF == ord('q'):\n",
    "        break\n",
    "\n",
    "video.release()\n",
    "cv2.destroyAllWindows()\n",
    "f.close()"
   ]
  },
  {
   "cell_type": "code",
   "execution_count": null,
   "id": "3d97c7c4-f808-4701-9b40-b026b015af2b",
   "metadata": {},
   "outputs": [],
   "source": []
  },
  {
   "cell_type": "code",
   "execution_count": null,
   "id": "ae6fe032-c765-40ba-8638-a1320c704c3e",
   "metadata": {},
   "outputs": [],
   "source": []
  }
 ],
 "metadata": {
  "kernelspec": {
   "display_name": "Python 3",
   "language": "python",
   "name": "python3"
  },
  "language_info": {
   "codemirror_mode": {
    "name": "ipython",
    "version": 3
   },
   "file_extension": ".py",
   "mimetype": "text/x-python",
   "name": "python",
   "nbconvert_exporter": "python",
   "pygments_lexer": "ipython3",
   "version": "3.9.13"
  }
 },
 "nbformat": 4,
 "nbformat_minor": 5
}
